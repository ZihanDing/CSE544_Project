{
 "cells": [
  {
   "cell_type": "code",
   "execution_count": 1,
   "id": "b625baa9",
   "metadata": {},
   "outputs": [
    {
     "name": "stderr",
     "output_type": "stream",
     "text": [
      "/Users/zihanding/opt/anaconda3/lib/python3.9/site-packages/scipy/__init__.py:146: UserWarning: A NumPy version >=1.16.5 and <1.23.0 is required for this version of SciPy (detected version 1.24.2\n",
      "  warnings.warn(f\"A NumPy version >={np_minversion} and <{np_maxversion}\"\n"
     ]
    }
   ],
   "source": [
    "import pandas as pd\n",
    "import numpy as np\n",
    "from scipy.stats import norm\n",
    "from scipy.stats import t\n",
    "import math"
   ]
  },
  {
   "cell_type": "code",
   "execution_count": 4,
   "id": "b6f7eaae",
   "metadata": {},
   "outputs": [],
   "source": [
    "df = pd.read_csv(\"/Users/zihanding/Developer/CSE544_Project/3.2_linear_interpolation.csv\")\n",
    "# df['Year'] = [df['DATE'][i][0:4] for i in range(len(df))]"
   ]
  },
  {
   "cell_type": "code",
   "execution_count": 5,
   "id": "cdaae38c",
   "metadata": {},
   "outputs": [
    {
     "data": {
      "text/html": [
       "<div>\n",
       "<style scoped>\n",
       "    .dataframe tbody tr th:only-of-type {\n",
       "        vertical-align: middle;\n",
       "    }\n",
       "\n",
       "    .dataframe tbody tr th {\n",
       "        vertical-align: top;\n",
       "    }\n",
       "\n",
       "    .dataframe thead th {\n",
       "        text-align: right;\n",
       "    }\n",
       "</style>\n",
       "<table border=\"1\" class=\"dataframe\">\n",
       "  <thead>\n",
       "    <tr style=\"text-align: right;\">\n",
       "      <th></th>\n",
       "      <th>DATE</th>\n",
       "      <th>CPI_all_items</th>\n",
       "      <th>Rent_of_Primary_residence</th>\n",
       "      <th>Monthly_Housing_Cost</th>\n",
       "      <th>CPI_Energy</th>\n",
       "      <th>US_Dollar_Purchasing_power</th>\n",
       "    </tr>\n",
       "  </thead>\n",
       "  <tbody>\n",
       "    <tr>\n",
       "      <th>0</th>\n",
       "      <td>1997-01-01</td>\n",
       "      <td>159.40</td>\n",
       "      <td>179.400</td>\n",
       "      <td>160.400000</td>\n",
       "      <td>155.300</td>\n",
       "      <td>62.8</td>\n",
       "    </tr>\n",
       "    <tr>\n",
       "      <th>1</th>\n",
       "      <td>1997-02-01</td>\n",
       "      <td>159.70</td>\n",
       "      <td>180.100</td>\n",
       "      <td>161.100000</td>\n",
       "      <td>155.600</td>\n",
       "      <td>62.6</td>\n",
       "    </tr>\n",
       "    <tr>\n",
       "      <th>2</th>\n",
       "      <td>1997-03-01</td>\n",
       "      <td>159.80</td>\n",
       "      <td>180.300</td>\n",
       "      <td>161.000000</td>\n",
       "      <td>156.000</td>\n",
       "      <td>62.5</td>\n",
       "    </tr>\n",
       "    <tr>\n",
       "      <th>3</th>\n",
       "      <td>1997-04-01</td>\n",
       "      <td>159.90</td>\n",
       "      <td>180.700</td>\n",
       "      <td>160.900000</td>\n",
       "      <td>156.200</td>\n",
       "      <td>62.4</td>\n",
       "    </tr>\n",
       "    <tr>\n",
       "      <th>4</th>\n",
       "      <td>1997-05-01</td>\n",
       "      <td>159.90</td>\n",
       "      <td>181.400</td>\n",
       "      <td>161.100000</td>\n",
       "      <td>156.300</td>\n",
       "      <td>62.5</td>\n",
       "    </tr>\n",
       "    <tr>\n",
       "      <th>...</th>\n",
       "      <td>...</td>\n",
       "      <td>...</td>\n",
       "      <td>...</td>\n",
       "      <td>...</td>\n",
       "      <td>...</td>\n",
       "      <td>...</td>\n",
       "    </tr>\n",
       "    <tr>\n",
       "      <th>307</th>\n",
       "      <td>2022-08-01</td>\n",
       "      <td>295.32</td>\n",
       "      <td>377.091</td>\n",
       "      <td>274.419286</td>\n",
       "      <td>334.212</td>\n",
       "      <td>33.8</td>\n",
       "    </tr>\n",
       "    <tr>\n",
       "      <th>308</th>\n",
       "      <td>2022-09-01</td>\n",
       "      <td>295.32</td>\n",
       "      <td>379.085</td>\n",
       "      <td>274.458714</td>\n",
       "      <td>337.369</td>\n",
       "      <td>33.7</td>\n",
       "    </tr>\n",
       "    <tr>\n",
       "      <th>309</th>\n",
       "      <td>2022-10-01</td>\n",
       "      <td>295.32</td>\n",
       "      <td>383.055</td>\n",
       "      <td>274.498143</td>\n",
       "      <td>340.532</td>\n",
       "      <td>33.6</td>\n",
       "    </tr>\n",
       "    <tr>\n",
       "      <th>310</th>\n",
       "      <td>2022-11-01</td>\n",
       "      <td>295.32</td>\n",
       "      <td>384.450</td>\n",
       "      <td>274.537571</td>\n",
       "      <td>342.266</td>\n",
       "      <td>33.6</td>\n",
       "    </tr>\n",
       "    <tr>\n",
       "      <th>311</th>\n",
       "      <td>2022-12-01</td>\n",
       "      <td>295.32</td>\n",
       "      <td>388.585</td>\n",
       "      <td>274.577000</td>\n",
       "      <td>342.266</td>\n",
       "      <td>33.7</td>\n",
       "    </tr>\n",
       "  </tbody>\n",
       "</table>\n",
       "<p>312 rows × 6 columns</p>\n",
       "</div>"
      ],
      "text/plain": [
       "           DATE  CPI_all_items  Rent_of_Primary_residence  \\\n",
       "0    1997-01-01         159.40                    179.400   \n",
       "1    1997-02-01         159.70                    180.100   \n",
       "2    1997-03-01         159.80                    180.300   \n",
       "3    1997-04-01         159.90                    180.700   \n",
       "4    1997-05-01         159.90                    181.400   \n",
       "..          ...            ...                        ...   \n",
       "307  2022-08-01         295.32                    377.091   \n",
       "308  2022-09-01         295.32                    379.085   \n",
       "309  2022-10-01         295.32                    383.055   \n",
       "310  2022-11-01         295.32                    384.450   \n",
       "311  2022-12-01         295.32                    388.585   \n",
       "\n",
       "     Monthly_Housing_Cost  CPI_Energy  US_Dollar_Purchasing_power  \n",
       "0              160.400000     155.300                        62.8  \n",
       "1              161.100000     155.600                        62.6  \n",
       "2              161.000000     156.000                        62.5  \n",
       "3              160.900000     156.200                        62.4  \n",
       "4              161.100000     156.300                        62.5  \n",
       "..                    ...         ...                         ...  \n",
       "307            274.419286     334.212                        33.8  \n",
       "308            274.458714     337.369                        33.7  \n",
       "309            274.498143     340.532                        33.6  \n",
       "310            274.537571     342.266                        33.6  \n",
       "311            274.577000     342.266                        33.7  \n",
       "\n",
       "[312 rows x 6 columns]"
      ]
     },
     "execution_count": 5,
     "metadata": {},
     "output_type": "execute_result"
    }
   ],
   "source": [
    "df"
   ]
  },
  {
   "cell_type": "code",
   "execution_count": 17,
   "id": "d79c59e8",
   "metadata": {},
   "outputs": [],
   "source": [
    "house = np.array(df['Monthly_Housing_Cost'])\n",
    "m_house = np.median(house)\n",
    "all_item = np.array(df['CPI_all_items'])\n",
    "m_all = np.median(all_item)"
   ]
  },
  {
   "cell_type": "code",
   "execution_count": 18,
   "id": "c12ad966",
   "metadata": {},
   "outputs": [],
   "source": [
    "df['House'] = ['High' if df['Monthly_Housing_Cost'][i] > m_house else 'Low' for i in range(len(df))]"
   ]
  },
  {
   "cell_type": "code",
   "execution_count": 26,
   "id": "03e0b94e",
   "metadata": {},
   "outputs": [],
   "source": [
    "df['All'] = ['High' if df['Monthly_Housing_Cost'][i] > m_all else 'Low' for i in range(len(df))]"
   ]
  },
  {
   "cell_type": "code",
   "execution_count": 27,
   "id": "b684bc80",
   "metadata": {},
   "outputs": [
    {
     "data": {
      "text/html": [
       "<div>\n",
       "<style scoped>\n",
       "    .dataframe tbody tr th:only-of-type {\n",
       "        vertical-align: middle;\n",
       "    }\n",
       "\n",
       "    .dataframe tbody tr th {\n",
       "        vertical-align: top;\n",
       "    }\n",
       "\n",
       "    .dataframe thead th {\n",
       "        text-align: right;\n",
       "    }\n",
       "</style>\n",
       "<table border=\"1\" class=\"dataframe\">\n",
       "  <thead>\n",
       "    <tr style=\"text-align: right;\">\n",
       "      <th></th>\n",
       "      <th>DATE</th>\n",
       "      <th>CPI_all_items</th>\n",
       "      <th>Rent_of_Primary_residence</th>\n",
       "      <th>Monthly_Housing_Cost</th>\n",
       "      <th>CPI_Energy</th>\n",
       "      <th>US_Dollar_Purchasing_power</th>\n",
       "      <th>House</th>\n",
       "      <th>All</th>\n",
       "    </tr>\n",
       "  </thead>\n",
       "  <tbody>\n",
       "    <tr>\n",
       "      <th>0</th>\n",
       "      <td>1997-01-01</td>\n",
       "      <td>159.40</td>\n",
       "      <td>179.400</td>\n",
       "      <td>160.400000</td>\n",
       "      <td>155.300</td>\n",
       "      <td>62.8</td>\n",
       "      <td>Low</td>\n",
       "      <td>Low</td>\n",
       "    </tr>\n",
       "    <tr>\n",
       "      <th>1</th>\n",
       "      <td>1997-02-01</td>\n",
       "      <td>159.70</td>\n",
       "      <td>180.100</td>\n",
       "      <td>161.100000</td>\n",
       "      <td>155.600</td>\n",
       "      <td>62.6</td>\n",
       "      <td>Low</td>\n",
       "      <td>Low</td>\n",
       "    </tr>\n",
       "    <tr>\n",
       "      <th>2</th>\n",
       "      <td>1997-03-01</td>\n",
       "      <td>159.80</td>\n",
       "      <td>180.300</td>\n",
       "      <td>161.000000</td>\n",
       "      <td>156.000</td>\n",
       "      <td>62.5</td>\n",
       "      <td>Low</td>\n",
       "      <td>Low</td>\n",
       "    </tr>\n",
       "    <tr>\n",
       "      <th>3</th>\n",
       "      <td>1997-04-01</td>\n",
       "      <td>159.90</td>\n",
       "      <td>180.700</td>\n",
       "      <td>160.900000</td>\n",
       "      <td>156.200</td>\n",
       "      <td>62.4</td>\n",
       "      <td>Low</td>\n",
       "      <td>Low</td>\n",
       "    </tr>\n",
       "    <tr>\n",
       "      <th>4</th>\n",
       "      <td>1997-05-01</td>\n",
       "      <td>159.90</td>\n",
       "      <td>181.400</td>\n",
       "      <td>161.100000</td>\n",
       "      <td>156.300</td>\n",
       "      <td>62.5</td>\n",
       "      <td>Low</td>\n",
       "      <td>Low</td>\n",
       "    </tr>\n",
       "    <tr>\n",
       "      <th>...</th>\n",
       "      <td>...</td>\n",
       "      <td>...</td>\n",
       "      <td>...</td>\n",
       "      <td>...</td>\n",
       "      <td>...</td>\n",
       "      <td>...</td>\n",
       "      <td>...</td>\n",
       "      <td>...</td>\n",
       "    </tr>\n",
       "    <tr>\n",
       "      <th>307</th>\n",
       "      <td>2022-08-01</td>\n",
       "      <td>295.32</td>\n",
       "      <td>377.091</td>\n",
       "      <td>274.419286</td>\n",
       "      <td>334.212</td>\n",
       "      <td>33.8</td>\n",
       "      <td>High</td>\n",
       "      <td>High</td>\n",
       "    </tr>\n",
       "    <tr>\n",
       "      <th>308</th>\n",
       "      <td>2022-09-01</td>\n",
       "      <td>295.32</td>\n",
       "      <td>379.085</td>\n",
       "      <td>274.458714</td>\n",
       "      <td>337.369</td>\n",
       "      <td>33.7</td>\n",
       "      <td>High</td>\n",
       "      <td>High</td>\n",
       "    </tr>\n",
       "    <tr>\n",
       "      <th>309</th>\n",
       "      <td>2022-10-01</td>\n",
       "      <td>295.32</td>\n",
       "      <td>383.055</td>\n",
       "      <td>274.498143</td>\n",
       "      <td>340.532</td>\n",
       "      <td>33.6</td>\n",
       "      <td>High</td>\n",
       "      <td>High</td>\n",
       "    </tr>\n",
       "    <tr>\n",
       "      <th>310</th>\n",
       "      <td>2022-11-01</td>\n",
       "      <td>295.32</td>\n",
       "      <td>384.450</td>\n",
       "      <td>274.537571</td>\n",
       "      <td>342.266</td>\n",
       "      <td>33.6</td>\n",
       "      <td>High</td>\n",
       "      <td>High</td>\n",
       "    </tr>\n",
       "    <tr>\n",
       "      <th>311</th>\n",
       "      <td>2022-12-01</td>\n",
       "      <td>295.32</td>\n",
       "      <td>388.585</td>\n",
       "      <td>274.577000</td>\n",
       "      <td>342.266</td>\n",
       "      <td>33.7</td>\n",
       "      <td>High</td>\n",
       "      <td>High</td>\n",
       "    </tr>\n",
       "  </tbody>\n",
       "</table>\n",
       "<p>312 rows × 8 columns</p>\n",
       "</div>"
      ],
      "text/plain": [
       "           DATE  CPI_all_items  Rent_of_Primary_residence  \\\n",
       "0    1997-01-01         159.40                    179.400   \n",
       "1    1997-02-01         159.70                    180.100   \n",
       "2    1997-03-01         159.80                    180.300   \n",
       "3    1997-04-01         159.90                    180.700   \n",
       "4    1997-05-01         159.90                    181.400   \n",
       "..          ...            ...                        ...   \n",
       "307  2022-08-01         295.32                    377.091   \n",
       "308  2022-09-01         295.32                    379.085   \n",
       "309  2022-10-01         295.32                    383.055   \n",
       "310  2022-11-01         295.32                    384.450   \n",
       "311  2022-12-01         295.32                    388.585   \n",
       "\n",
       "     Monthly_Housing_Cost  CPI_Energy  US_Dollar_Purchasing_power House   All  \n",
       "0              160.400000     155.300                        62.8   Low   Low  \n",
       "1              161.100000     155.600                        62.6   Low   Low  \n",
       "2              161.000000     156.000                        62.5   Low   Low  \n",
       "3              160.900000     156.200                        62.4   Low   Low  \n",
       "4              161.100000     156.300                        62.5   Low   Low  \n",
       "..                    ...         ...                         ...   ...   ...  \n",
       "307            274.419286     334.212                        33.8  High  High  \n",
       "308            274.458714     337.369                        33.7  High  High  \n",
       "309            274.498143     340.532                        33.6  High  High  \n",
       "310            274.537571     342.266                        33.6  High  High  \n",
       "311            274.577000     342.266                        33.7  High  High  \n",
       "\n",
       "[312 rows x 8 columns]"
      ]
     },
     "execution_count": 27,
     "metadata": {},
     "output_type": "execute_result"
    }
   ],
   "source": [
    "df"
   ]
  },
  {
   "cell_type": "code",
   "execution_count": 28,
   "id": "46e33106",
   "metadata": {},
   "outputs": [
    {
     "name": "stdout",
     "output_type": "stream",
     "text": [
      "143\n",
      "13\n",
      "0\n",
      "156\n"
     ]
    }
   ],
   "source": [
    "condition = (df['House']=='High') & (df['All'] =='High')\n",
    "result = df[condition]\n",
    "print(len(result))\n",
    "\n",
    "condition = (df['House']=='High') & (df['All'] =='Low')\n",
    "result = df[condition]\n",
    "print(len(result))\n",
    "\n",
    "condition = (df['House']=='Low') & (df['All'] =='High')\n",
    "result = df[condition]\n",
    "print(len(result))\n",
    "\n",
    "condition = (df['House']=='Low') & (df['All'] =='Low')\n",
    "result = df[condition]\n",
    "print(len(result))"
   ]
  },
  {
   "cell_type": "markdown",
   "id": "fcd6dd26",
   "metadata": {},
   "source": [
    "The pr of each col is 1/2,1/2"
   ]
  },
  {
   "cell_type": "code",
   "execution_count": 32,
   "id": "e24715dc",
   "metadata": {},
   "outputs": [
    {
     "name": "stdout",
     "output_type": "stream",
     "text": [
      "264.0\n"
     ]
    }
   ],
   "source": [
    "Qobs = ((71.5-143)**2+71.5**2)/71.5 + ((84.5-13)**2+(84.5-156)**2)/84.5\n",
    "print(Qobs)"
   ]
  },
  {
   "cell_type": "code",
   "execution_count": 33,
   "id": "87509002",
   "metadata": {},
   "outputs": [
    {
     "name": "stdout",
     "output_type": "stream",
     "text": [
      "260.32060247444866 1.4609408098142176e-58 1 [[71.5 71.5]\n",
      " [84.5 84.5]]\n"
     ]
    }
   ],
   "source": [
    "from scipy.stats import chi2_contingency\n",
    "\n",
    "Qobserved = np.array([[143,0],[13,156]])\n",
    "chi2, p, dof, expected = chi2_contingency(Qobserved)\n",
    "print(chi2,p,dof,expected)"
   ]
  },
  {
   "cell_type": "markdown",
   "id": "b23dd48b",
   "metadata": {},
   "source": [
    "H0: Housing and All item is not related.  \n",
    "H1: Housing and All item are related.  "
   ]
  },
  {
   "cell_type": "code",
   "execution_count": 34,
   "id": "d9b45176",
   "metadata": {},
   "outputs": [
    {
     "data": {
      "text/plain": [
       "False"
      ]
     },
     "execution_count": 34,
     "metadata": {},
     "output_type": "execute_result"
    }
   ],
   "source": [
    "p>0.05"
   ]
  },
  {
   "cell_type": "code",
   "execution_count": null,
   "id": "2f237b10",
   "metadata": {},
   "outputs": [],
   "source": []
  },
  {
   "cell_type": "markdown",
   "id": "5f5f5e5b",
   "metadata": {},
   "source": [
    "| |High Housing Cost | Low Housing Cost | Total |\n",
    "| :----:| :----: | :----: |:----: |\n",
    "| High All Items Cost | (O:143)(E:71.5) | (O:0)(E:71.5) |143|\n",
    "| Low All Items Cost | (O:13)(E:84.5) | (O:156)(E:84.5) |169|\n",
    "| Total | 156 | 156 |312|"
   ]
  }
 ],
 "metadata": {
  "kernelspec": {
   "display_name": "Python 3 (ipykernel)",
   "language": "python",
   "name": "python3"
  },
  "language_info": {
   "codemirror_mode": {
    "name": "ipython",
    "version": 3
   },
   "file_extension": ".py",
   "mimetype": "text/x-python",
   "name": "python",
   "nbconvert_exporter": "python",
   "pygments_lexer": "ipython3",
   "version": "3.9.7"
  }
 },
 "nbformat": 4,
 "nbformat_minor": 5
}
