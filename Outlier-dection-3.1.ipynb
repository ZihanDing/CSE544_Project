{
 "cells": [
  {
   "cell_type": "code",
   "execution_count": 74,
   "metadata": {},
   "outputs": [
    {
     "name": "stdout",
     "output_type": "stream",
     "text": [
      "(312, 6)\n"
     ]
    },
    {
     "data": {
      "text/html": [
       "<div>\n",
       "<style scoped>\n",
       "    .dataframe tbody tr th:only-of-type {\n",
       "        vertical-align: middle;\n",
       "    }\n",
       "\n",
       "    .dataframe tbody tr th {\n",
       "        vertical-align: top;\n",
       "    }\n",
       "\n",
       "    .dataframe thead th {\n",
       "        text-align: right;\n",
       "    }\n",
       "</style>\n",
       "<table border=\"1\" class=\"dataframe\">\n",
       "  <thead>\n",
       "    <tr style=\"text-align: right;\">\n",
       "      <th></th>\n",
       "      <th>DATE</th>\n",
       "      <th>CPI_all_items</th>\n",
       "      <th>Rent_of_Primary_residence</th>\n",
       "      <th>Monthly_Housing_Cost</th>\n",
       "      <th>CPI_Energy</th>\n",
       "      <th>US_Dollar_Purchasing_power</th>\n",
       "    </tr>\n",
       "  </thead>\n",
       "  <tbody>\n",
       "    <tr>\n",
       "      <th>0</th>\n",
       "      <td>1997-01-01</td>\n",
       "      <td>159.4</td>\n",
       "      <td>179.4</td>\n",
       "      <td>160.4</td>\n",
       "      <td>155.3</td>\n",
       "      <td>62.8</td>\n",
       "    </tr>\n",
       "    <tr>\n",
       "      <th>1</th>\n",
       "      <td>1997-02-01</td>\n",
       "      <td>159.7</td>\n",
       "      <td>180.1</td>\n",
       "      <td>161.1</td>\n",
       "      <td>155.6</td>\n",
       "      <td>62.6</td>\n",
       "    </tr>\n",
       "    <tr>\n",
       "      <th>2</th>\n",
       "      <td>1997-03-01</td>\n",
       "      <td>159.8</td>\n",
       "      <td>180.3</td>\n",
       "      <td>161.0</td>\n",
       "      <td>156.0</td>\n",
       "      <td>62.5</td>\n",
       "    </tr>\n",
       "    <tr>\n",
       "      <th>3</th>\n",
       "      <td>1997-04-01</td>\n",
       "      <td>159.9</td>\n",
       "      <td>180.7</td>\n",
       "      <td>160.9</td>\n",
       "      <td>156.2</td>\n",
       "      <td>62.4</td>\n",
       "    </tr>\n",
       "    <tr>\n",
       "      <th>4</th>\n",
       "      <td>1997-05-01</td>\n",
       "      <td>159.9</td>\n",
       "      <td>181.4</td>\n",
       "      <td>161.1</td>\n",
       "      <td>156.3</td>\n",
       "      <td>62.5</td>\n",
       "    </tr>\n",
       "  </tbody>\n",
       "</table>\n",
       "</div>"
      ],
      "text/plain": [
       "         DATE  CPI_all_items  Rent_of_Primary_residence  Monthly_Housing_Cost   \n",
       "0  1997-01-01          159.4                      179.4                 160.4  \\\n",
       "1  1997-02-01          159.7                      180.1                 161.1   \n",
       "2  1997-03-01          159.8                      180.3                 161.0   \n",
       "3  1997-04-01          159.9                      180.7                 160.9   \n",
       "4  1997-05-01          159.9                      181.4                 161.1   \n",
       "\n",
       "   CPI_Energy  US_Dollar_Purchasing_power  \n",
       "0       155.3                        62.8  \n",
       "1       155.6                        62.6  \n",
       "2       156.0                        62.5  \n",
       "3       156.2                        62.4  \n",
       "4       156.3                        62.5  "
      ]
     },
     "execution_count": 74,
     "metadata": {},
     "output_type": "execute_result"
    }
   ],
   "source": [
    "import pandas as pd\n",
    "import numpy as np\n",
    "\n",
    "data = pd.read_csv('Chicago-Naperville-Elgin-2-new.csv')\n",
    "print(data.shape)\n",
    "data.head()\n"
   ]
  },
  {
   "cell_type": "code",
   "execution_count": 75,
   "metadata": {},
   "outputs": [],
   "source": [
    "def detect_outliers_tukey(column, alpha):\n",
    "    q1 = column.quantile(0.25)\n",
    "    q3 = column.quantile(0.75)\n",
    "    iqr = q3 - q1\n",
    "    print('The IQR is', iqr,q1,q3)\n",
    "    lower_bound = q1 - alpha * iqr\n",
    "    upper_bound = q3 + alpha * iqr\n",
    "    outliers = column[(column < lower_bound) | (column > upper_bound)]\n",
    "    return outliers"
   ]
  },
  {
   "attachments": {},
   "cell_type": "markdown",
   "metadata": {},
   "source": [
    "Create Tukey's rule function for outlier detection"
   ]
  },
  {
   "cell_type": "code",
   "execution_count": 76,
   "metadata": {},
   "outputs": [
    {
     "name": "stdout",
     "output_type": "stream",
     "text": [
      "The IQR is 56.28125 183.85 240.13125\n",
      "CPI_all_items Series([], Name: CPI_all_items, dtype: float64)\n",
      "The IQR is 81.857 231.025 312.882\n",
      "Rent_of_Primary_residence Series([], Name: Rent_of_Primary_residence, dtype: float64)\n",
      "The IQR is 45.5565 184.4 229.9565\n",
      "Monthly_Housing_Cost Series([], Name: Monthly_Housing_Cost, dtype: float64)\n",
      "The IQR is 80.45949999999996 182.20000000000002 262.6595\n",
      "CPI_Energy Series([], Name: CPI_Energy, dtype: float64)\n",
      "The IQR is 12.749999999999993 41.575 54.324999999999996\n",
      "US_Dollar_Purchasing_power Series([], Name: US_Dollar_Purchasing_power, dtype: float64)\n"
     ]
    }
   ],
   "source": [
    "outliers_count = {}\n",
    "for col in data.columns[1:]:  # Skip the first column (date)\n",
    "    if data[col].dtype in [np.float64, np.int64]:\n",
    "        outliers = detect_outliers_tukey(data[col], alpha=1.5)\n",
    "        print(col, outliers)\n",
    "        outliers_count[col] = len(outliers)\n",
    "        data.loc[outliers.index, col] = np.nan"
   ]
  },
  {
   "cell_type": "code",
   "execution_count": 77,
   "metadata": {},
   "outputs": [
    {
     "name": "stdout",
     "output_type": "stream",
     "text": [
      "Number of outliers detected for each column:\n",
      "CPI_all_items: 0\n",
      "Rent_of_Primary_residence: 0\n",
      "Monthly_Housing_Cost: 0\n",
      "CPI_Energy: 0\n",
      "US_Dollar_Purchasing_power: 0\n"
     ]
    }
   ],
   "source": [
    "print(\"Number of outliers detected for each column:\")\n",
    "for col, count in outliers_count.items():\n",
    "    print(f\"{col}: {count}\")"
   ]
  }
 ],
 "metadata": {
  "kernelspec": {
   "display_name": "Python 3",
   "language": "python",
   "name": "python3"
  },
  "language_info": {
   "codemirror_mode": {
    "name": "ipython",
    "version": 3
   },
   "file_extension": ".py",
   "mimetype": "text/x-python",
   "name": "python",
   "nbconvert_exporter": "python",
   "pygments_lexer": "ipython3",
   "version": "3.10.11"
  },
  "orig_nbformat": 4
 },
 "nbformat": 4,
 "nbformat_minor": 2
}
