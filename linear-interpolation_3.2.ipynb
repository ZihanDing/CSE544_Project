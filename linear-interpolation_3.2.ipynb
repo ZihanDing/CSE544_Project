{
 "cells": [
  {
   "cell_type": "code",
   "execution_count": 48,
   "metadata": {},
   "outputs": [],
   "source": [
    "import pandas as pd\n",
    "import numpy as np\n",
    "\n",
    "\n",
    "data = pd.read_csv('3.1_modified_dataset_.csv', parse_dates=[0])\n",
    "\n",
    "data.set_index('DATE', inplace=True)\n"
   ]
  },
  {
   "cell_type": "code",
   "execution_count": 49,
   "metadata": {},
   "outputs": [],
   "source": [
    "data.interpolate(method='linear', inplace=True)\n"
   ]
  },
  {
   "cell_type": "code",
   "execution_count": null,
   "metadata": {},
   "outputs": [],
   "source": [
    "data.reset_index(inplace=True)\n",
    "data.to_csv('3.2_linear_interpolation.csv', index=False)"
   ]
  },
  {
   "cell_type": "code",
   "execution_count": 46,
   "metadata": {},
   "outputs": [],
   "source": [
    "def linear_interpolation(data, date_col, value_col):\n",
    "    missing_rows = data[value_col].isna()\n",
    "    print(missing_rows)\n",
    "    missing_dates = data.loc[missing_rows, date_col]\n",
    "    print(missing_dates)\n",
    "\n",
    "    for missing_date in missing_dates:\n",
    "        # Find the known data points that are immediately above the missing data point\n",
    "        above_rows = data[data[date_col] < missing_date]\n",
    "        below_rows = data[data[date_col] > missing_date]\n",
    "\n",
    "        # Check if there are rows above and below the missing_date\n",
    "        if not above_rows.empty and not below_rows.empty:\n",
    "            above_row = above_rows.iloc[-1]\n",
    "            below_row = below_rows.iloc[0]\n",
    "\n",
    "            x1, y1 = above_row[date_col], above_row[value_col]\n",
    "            x2, y2 = below_row[date_col], below_row[value_col]\n",
    "\n",
    "            # Calculate the slope of the line that connects the two known data points\n",
    "            slope = (y2 - y1) / ((x2 - x1).days + 1)\n",
    "\n",
    "            # Estimate the value of the missing data point\n",
    "            missing_value = y1 + slope * ((missing_date - x1).days)\n",
    "\n",
    "            # Replace the missing data point with the estimated value\n",
    "            data.loc[data[date_col] == missing_date, value_col] = missing_value"
   ]
  },
  {
   "cell_type": "code",
   "execution_count": 47,
   "metadata": {},
   "outputs": [
    {
     "name": "stdout",
     "output_type": "stream",
     "text": [
      "['CPI_all_items', 'Rent_of_Primary_residence', 'Monthly_Housing_Cost', 'CPI_Energy', 'US_Dollar_Purchasing_power']\n",
      "0      False\n",
      "1      False\n",
      "2      False\n",
      "3      False\n",
      "4      False\n",
      "       ...  \n",
      "307    False\n",
      "308     True\n",
      "309     True\n",
      "310     True\n",
      "311     True\n",
      "Name: CPI_all_items, Length: 312, dtype: bool\n",
      "308   2022-09-01\n",
      "309   2022-10-01\n",
      "310   2022-11-01\n",
      "311   2022-12-01\n",
      "Name: DATE, dtype: datetime64[ns]\n",
      "0      False\n",
      "1      False\n",
      "2      False\n",
      "3      False\n",
      "4      False\n",
      "       ...  \n",
      "307    False\n",
      "308    False\n",
      "309    False\n",
      "310    False\n",
      "311    False\n",
      "Name: Rent_of_Primary_residence, Length: 312, dtype: bool\n",
      "Series([], Name: DATE, dtype: datetime64[ns])\n",
      "0      False\n",
      "1      False\n",
      "2      False\n",
      "3      False\n",
      "4      False\n",
      "       ...  \n",
      "307     True\n",
      "308     True\n",
      "309     True\n",
      "310     True\n",
      "311    False\n",
      "Name: Monthly_Housing_Cost, Length: 312, dtype: bool\n",
      "305   2022-06-01\n",
      "306   2022-07-01\n",
      "307   2022-08-01\n",
      "308   2022-09-01\n",
      "309   2022-10-01\n",
      "310   2022-11-01\n",
      "Name: DATE, dtype: datetime64[ns]\n",
      "0      False\n",
      "1      False\n",
      "2      False\n",
      "3      False\n",
      "4      False\n",
      "       ...  \n",
      "307    False\n",
      "308    False\n",
      "309    False\n",
      "310    False\n",
      "311     True\n",
      "Name: CPI_Energy, Length: 312, dtype: bool\n",
      "311   2022-12-01\n",
      "Name: DATE, dtype: datetime64[ns]\n",
      "0      False\n",
      "1      False\n",
      "2      False\n",
      "3      False\n",
      "4      False\n",
      "       ...  \n",
      "307    False\n",
      "308    False\n",
      "309    False\n",
      "310    False\n",
      "311    False\n",
      "Name: US_Dollar_Purchasing_power, Length: 312, dtype: bool\n",
      "Series([], Name: DATE, dtype: datetime64[ns])\n"
     ]
    }
   ],
   "source": [
    "columns_with_missing_data = list(data.head(0))\n",
    "print(columns_with_missing_data[1:])\n",
    "\n",
    "for col in columns_with_missing_data[1:]:\n",
    "    linear_interpolation(data, 'DATE', col)\n",
    "\n",
    "data.to_csv('3.2_linear_interpolation.csv', index=False)"
   ]
  }
 ],
 "metadata": {
  "kernelspec": {
   "display_name": "Python 3",
   "language": "python",
   "name": "python3"
  },
  "language_info": {
   "codemirror_mode": {
    "name": "ipython",
    "version": 3
   },
   "file_extension": ".py",
   "mimetype": "text/x-python",
   "name": "python",
   "nbconvert_exporter": "python",
   "pygments_lexer": "ipython3",
   "version": "3.10.11"
  },
  "orig_nbformat": 4
 },
 "nbformat": 4,
 "nbformat_minor": 2
}
