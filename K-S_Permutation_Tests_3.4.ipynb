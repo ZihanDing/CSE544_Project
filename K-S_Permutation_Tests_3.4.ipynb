{
 "cells": [
  {
   "cell_type": "code",
   "execution_count": 215,
   "id": "4b780a51",
   "metadata": {},
   "outputs": [],
   "source": [
    "import pandas as pd\n",
    "import numpy as np\n",
    "import random\n",
    "import scipy.stats as st\n",
    "import datetime as dt"
   ]
  },
  {
   "cell_type": "code",
   "execution_count": 293,
   "id": "dd435402",
   "metadata": {},
   "outputs": [],
   "source": [
    "def one_myks_test(d,col1,col2,dist='binomial'):\n",
    "    #sort dataset\n",
    "    d1 = d[col1].sort_values().to_numpy()\n",
    "    d2 = d[col2].sort_values().to_numpy()\n",
    "    #get all x observations and sort again\n",
    "    #p = 1- (np.sum(d**2)/np.sum(d)) + np.mean(d)\n",
    "    xbar = np.mean(d2)\n",
    "    xstd = np.std(d2)\n",
    "    if dist == 'binomial':\n",
    "        p = 1 - (xstd / xbar)\n",
    "        n = np.round(xbar / p)\n",
    "    elif dist == 'poisson':\n",
    "        lamb = xbar\n",
    "    elif dist == 'geometric':\n",
    "        p = 1/xbar\n",
    "    else: \n",
    "        \"Invalid distribution\"\n",
    "    \n",
    "    #initialize empty lists to store eCDF of dataset and CDF of distribution testing against\n",
    "    ecdf = []\n",
    "    #loop through each x observation and take the sum of the indicator RV and multiply by the sample size\n",
    "    for t in d1:\n",
    "        ecdf.append((1/len(d1))*sum(d1 <= t))\n",
    "    \n",
    "    if dist == 'binomial':\n",
    "        dist_cdf = st.binom.cdf(d1, n, p)\n",
    "    elif dist == 'poisson':\n",
    "        dist_cdf = st.poisson.cdf(d1, lamb)\n",
    "    elif dist == 'geometric':\n",
    "        dist_cdf = st.geom.cdf(d1, p)\n",
    "    else: \n",
    "        \"Invalid distribution\"\n",
    "        \n",
    "    #create a results dataframe\n",
    "    res = pd.DataFrame()\n",
    "    res['ecdf'] = ecdf\n",
    "    res['dist_cdf'] = dist_cdf\n",
    "    \n",
    "    #remove duplicates\n",
    "    res.drop_duplicates().reset_index(drop=True)\n",
    "    \n",
    "    #find the absolute difference between the two sample eCDFs\n",
    "    res['abs_diff'] = abs(res['ecdf']-res['dist_cdf'])\n",
    "\n",
    "    #find the max of the absolute differences, this is the KS statistic\n",
    "    diff = max(res['abs_diff'])\n",
    "\n",
    "    return {\"KS Statistic\": diff}"
   ]
  },
  {
   "cell_type": "code",
   "execution_count": 200,
   "id": "5f27df6e",
   "metadata": {},
   "outputs": [],
   "source": [
    "def two_myks_test(d,col1,col2):\n",
    "    #sort individual datasets\n",
    "    d1 = d[col1].sort_values().to_numpy()\n",
    "    d2 = d[col2].sort_values().to_numpy()\n",
    "    \n",
    "    #get all x observations and sort again\n",
    "    total = np.concatenate((d1,d2))\n",
    "    total.sort()\n",
    "    \n",
    "    #initialize empty lists to store eCDF of respective dataset\n",
    "    ecdf1 = []\n",
    "    ecdf2 = []\n",
    "    \n",
    "    #loop through each x observation and take the sum of the indicator RV and multiply by the sample size\n",
    "    for t in total:\n",
    "        ecdf1.append((1/len(d1))*sum(d1 <= t))\n",
    "        ecdf2.append((1/len(d2))*sum(d2 <= t))\n",
    "\n",
    "    #create a results dataframe\n",
    "    res = pd.DataFrame()\n",
    "    res['total'] = total\n",
    "    res['ecdf1'] = ecdf1\n",
    "    res['ecdf2'] = ecdf2\n",
    "    \n",
    "    #remove duplicates\n",
    "    res.drop_duplicates().reset_index(drop=True)\n",
    "    \n",
    "    #find the absolute difference between the two sample eCDFs\n",
    "    res['abs_diff'] = abs(res['ecdf1']-res['ecdf2'])\n",
    "\n",
    "    #find the max of the absolute differences, this is the KS statistic\n",
    "    d = max(res['abs_diff'])\n",
    "\n",
    "    return {\"KS Statistic\": d}"
   ]
  },
  {
   "cell_type": "code",
   "execution_count": 211,
   "id": "a220fdba",
   "metadata": {},
   "outputs": [],
   "source": [
    "def myperm_test(d,col1,col2,num_it):\n",
    "    #Permutation Test\n",
    "    #Step 1 :Compute T Obs = abs difference between two sample means\n",
    "    d1_bar = np.mean(d[col1])\n",
    "    d2_bar = np.mean(d[col2])\n",
    "    \n",
    "    Tobs = abs(d1_bar - d2_bar)\n",
    "    \n",
    "    combined_list = np.concatenate((d[col1].to_numpy(),d[col2].to_numpy()))\n",
    "    \n",
    "    n = len(d[col1])\n",
    "    m = len(d[col2])\n",
    "    \n",
    "    Ti = []\n",
    "    \n",
    "    for i in range(0,num_it):\n",
    "        rnd_perm = np.random.permutation(combined_list)\n",
    "        xi = rnd_perm[:n]\n",
    "        yi = rnd_perm[n:]\n",
    "\n",
    "        d1i_bar = np.mean(xi)\n",
    "        d2i_bar = np.mean(yi)\n",
    "        ti = abs(d1i_bar - d2i_bar)\n",
    "        Ti.append(ti)\n",
    "        \n",
    "    pval = sum( i > Tobs for i in Ti)*(1/num_it)\n",
    "    \n",
    "    return {\"p-value\": pval}"
   ]
  },
  {
   "cell_type": "code",
   "execution_count": 216,
   "id": "5aad1ee7",
   "metadata": {},
   "outputs": [],
   "source": [
    "df = pd.read_csv('3.2_linear_interpolation.csv')\n",
    "df['DATE']= pd.to_datetime(df['DATE'])"
   ]
  },
  {
   "cell_type": "code",
   "execution_count": 58,
   "id": "a8501ac3",
   "metadata": {},
   "outputs": [],
   "source": [
    "def pct_chg_calc(df,colname):\n",
    "    #takes the dataset and the respective column and calculates the difference between two adjacent rows and divides by the previous\n",
    "    return df[colname].diff()/df[colname].shift()"
   ]
  },
  {
   "cell_type": "code",
   "execution_count": 113,
   "id": "dde73dc6",
   "metadata": {},
   "outputs": [],
   "source": [
    "def norm_df(df):\n",
    "    #create new dataframe to store results\n",
    "    normdf = pd.DataFrame()\n",
    "    #take the date column from the original\n",
    "    normdf[df.columns[0]] = df[df.columns[0]].copy()\n",
    "    #loop through each column with the percent change function defined above\n",
    "    for column in df.columns[1:]:\n",
    "        newcol = \"{}_per_change\".format(column)\n",
    "        normdf[newcol] = pct_chg_calc(df,column)\n",
    "        #delete first row in results dataframe as there is no previous value to calculate a percent change frome\n",
    "        normdf = normdf.iloc[1:]\n",
    "    return normdf"
   ]
  },
  {
   "cell_type": "code",
   "execution_count": 218,
   "id": "bdc0c899",
   "metadata": {},
   "outputs": [],
   "source": [
    "normdf = norm_df(df)"
   ]
  },
  {
   "cell_type": "code",
   "execution_count": 240,
   "id": "18a565d4",
   "metadata": {},
   "outputs": [],
   "source": [
    "normdfsub = normdf[(normdf['DATE'] >= '2018-01-01') & (normdf['DATE'] <= '2020-12-31')]\n",
    "dfsub = df[(df['DATE'] >= '2018-01-01') & (df['DATE'] <= '2020-12-31')]"
   ]
  },
  {
   "cell_type": "code",
   "execution_count": 296,
   "id": "c1f20a7c",
   "metadata": {},
   "outputs": [
    {
     "name": "stdout",
     "output_type": "stream",
     "text": [
      "{'KS Statistic': 0.9722222222222222}\n",
      "{'KS Statistic': 0.7155928534558861}\n",
      "{'KS Statistic': 0.9722221630498638}\n"
     ]
    }
   ],
   "source": [
    "dists = ['binomial','geometric','poisson']\n",
    "for d in dists:\n",
    "    print(one_myks_test(dfsub,'Rent_of_Primary_residence','Monthly_Housing_Cost',dist=d))"
   ]
  },
  {
   "cell_type": "code",
   "execution_count": 237,
   "id": "ebe8f0bd",
   "metadata": {},
   "outputs": [
    {
     "data": {
      "text/plain": [
       "{'KS Statistic': 0.3611111111111111}"
      ]
     },
     "execution_count": 237,
     "metadata": {},
     "output_type": "execute_result"
    }
   ],
   "source": [
    "two_myks_test(normdfsub,'Monthly_Housing_Cost_per_change','Rent_of_Primary_residence_per_change')"
   ]
  },
  {
   "cell_type": "code",
   "execution_count": 238,
   "id": "df4e60a4",
   "metadata": {},
   "outputs": [
    {
     "data": {
      "text/plain": [
       "{'p-value': 0.228}"
      ]
     },
     "execution_count": 238,
     "metadata": {},
     "output_type": "execute_result"
    }
   ],
   "source": [
    "myperm_test(normdfsub,'Monthly_Housing_Cost_per_change','Rent_of_Primary_residence_per_change',1000)"
   ]
  },
  {
   "cell_type": "code",
   "execution_count": null,
   "id": "73df1ea6",
   "metadata": {},
   "outputs": [],
   "source": []
  }
 ],
 "metadata": {
  "kernelspec": {
   "display_name": "Python 3 (ipykernel)",
   "language": "python",
   "name": "python3"
  },
  "language_info": {
   "codemirror_mode": {
    "name": "ipython",
    "version": 3
   },
   "file_extension": ".py",
   "mimetype": "text/x-python",
   "name": "python",
   "nbconvert_exporter": "python",
   "pygments_lexer": "ipython3",
   "version": "3.9.13"
  }
 },
 "nbformat": 4,
 "nbformat_minor": 5
}
