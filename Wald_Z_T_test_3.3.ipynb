{
 "cells": [
  {
   "cell_type": "code",
   "execution_count": 44,
   "id": "66667e62",
   "metadata": {},
   "outputs": [],
   "source": [
    "import pandas as pd\n",
    "import numpy as np\n",
    "from scipy.stats import norm\n",
    "from scipy.stats import t\n",
    "import math"
   ]
  },
  {
   "cell_type": "code",
   "execution_count": 16,
   "id": "64fbe35d",
   "metadata": {},
   "outputs": [],
   "source": [
    "df = pd.read_csv(\"/Users/zihanding/Developer/CSE544_Project/3.2_linear_interpolation.csv\")\n",
    "df['Year'] = [df['DATE'][i][0:4] for i in range(len(df))]"
   ]
  },
  {
   "cell_type": "code",
   "execution_count": 18,
   "id": "65b1c04d",
   "metadata": {},
   "outputs": [],
   "source": [
    "df2020 = df[df['Year'] == '2020']\n",
    "df2021 = df[df['Year'] == '2021']"
   ]
  },
  {
   "cell_type": "code",
   "execution_count": 19,
   "id": "a6684787",
   "metadata": {},
   "outputs": [
    {
     "data": {
      "text/html": [
       "<div>\n",
       "<style scoped>\n",
       "    .dataframe tbody tr th:only-of-type {\n",
       "        vertical-align: middle;\n",
       "    }\n",
       "\n",
       "    .dataframe tbody tr th {\n",
       "        vertical-align: top;\n",
       "    }\n",
       "\n",
       "    .dataframe thead th {\n",
       "        text-align: right;\n",
       "    }\n",
       "</style>\n",
       "<table border=\"1\" class=\"dataframe\">\n",
       "  <thead>\n",
       "    <tr style=\"text-align: right;\">\n",
       "      <th></th>\n",
       "      <th>DATE</th>\n",
       "      <th>CPI_all_items</th>\n",
       "      <th>Rent_of_Primary_residence</th>\n",
       "      <th>Monthly_Housing_Cost</th>\n",
       "      <th>CPI_Energy</th>\n",
       "      <th>US_Dollar_Purchasing_power</th>\n",
       "      <th>Year</th>\n",
       "    </tr>\n",
       "  </thead>\n",
       "  <tbody>\n",
       "    <tr>\n",
       "      <th>276</th>\n",
       "      <td>2020-01-01</td>\n",
       "      <td>259.037</td>\n",
       "      <td>346.449</td>\n",
       "      <td>244.361</td>\n",
       "      <td>289.137</td>\n",
       "      <td>38.8</td>\n",
       "      <td>2020</td>\n",
       "    </tr>\n",
       "    <tr>\n",
       "      <th>277</th>\n",
       "      <td>2020-02-01</td>\n",
       "      <td>259.248</td>\n",
       "      <td>347.141</td>\n",
       "      <td>244.407</td>\n",
       "      <td>289.781</td>\n",
       "      <td>38.7</td>\n",
       "      <td>2020</td>\n",
       "    </tr>\n",
       "    <tr>\n",
       "      <th>278</th>\n",
       "      <td>2020-03-01</td>\n",
       "      <td>258.124</td>\n",
       "      <td>347.474</td>\n",
       "      <td>242.655</td>\n",
       "      <td>290.216</td>\n",
       "      <td>38.7</td>\n",
       "      <td>2020</td>\n",
       "    </tr>\n",
       "    <tr>\n",
       "      <th>279</th>\n",
       "      <td>2020-04-01</td>\n",
       "      <td>256.092</td>\n",
       "      <td>347.314</td>\n",
       "      <td>240.364</td>\n",
       "      <td>290.639</td>\n",
       "      <td>39.0</td>\n",
       "      <td>2020</td>\n",
       "    </tr>\n",
       "    <tr>\n",
       "      <th>280</th>\n",
       "      <td>2020-05-01</td>\n",
       "      <td>255.868</td>\n",
       "      <td>348.344</td>\n",
       "      <td>242.650</td>\n",
       "      <td>291.709</td>\n",
       "      <td>39.0</td>\n",
       "      <td>2020</td>\n",
       "    </tr>\n",
       "    <tr>\n",
       "      <th>281</th>\n",
       "      <td>2020-06-01</td>\n",
       "      <td>256.986</td>\n",
       "      <td>349.214</td>\n",
       "      <td>243.475</td>\n",
       "      <td>293.219</td>\n",
       "      <td>38.8</td>\n",
       "      <td>2020</td>\n",
       "    </tr>\n",
       "    <tr>\n",
       "      <th>282</th>\n",
       "      <td>2020-07-01</td>\n",
       "      <td>258.278</td>\n",
       "      <td>350.090</td>\n",
       "      <td>244.046</td>\n",
       "      <td>294.599</td>\n",
       "      <td>38.6</td>\n",
       "      <td>2020</td>\n",
       "    </tr>\n",
       "    <tr>\n",
       "      <th>283</th>\n",
       "      <td>2020-08-01</td>\n",
       "      <td>259.411</td>\n",
       "      <td>350.673</td>\n",
       "      <td>244.341</td>\n",
       "      <td>295.437</td>\n",
       "      <td>38.5</td>\n",
       "      <td>2020</td>\n",
       "    </tr>\n",
       "    <tr>\n",
       "      <th>284</th>\n",
       "      <td>2020-09-01</td>\n",
       "      <td>260.029</td>\n",
       "      <td>351.302</td>\n",
       "      <td>245.745</td>\n",
       "      <td>297.080</td>\n",
       "      <td>38.4</td>\n",
       "      <td>2020</td>\n",
       "    </tr>\n",
       "    <tr>\n",
       "      <th>285</th>\n",
       "      <td>2020-10-01</td>\n",
       "      <td>260.286</td>\n",
       "      <td>352.532</td>\n",
       "      <td>245.584</td>\n",
       "      <td>297.893</td>\n",
       "      <td>38.4</td>\n",
       "      <td>2020</td>\n",
       "    </tr>\n",
       "    <tr>\n",
       "      <th>286</th>\n",
       "      <td>2020-11-01</td>\n",
       "      <td>260.813</td>\n",
       "      <td>353.426</td>\n",
       "      <td>244.610</td>\n",
       "      <td>298.253</td>\n",
       "      <td>38.4</td>\n",
       "      <td>2020</td>\n",
       "    </tr>\n",
       "    <tr>\n",
       "      <th>287</th>\n",
       "      <td>2020-12-01</td>\n",
       "      <td>262.035</td>\n",
       "      <td>354.001</td>\n",
       "      <td>244.235</td>\n",
       "      <td>299.369</td>\n",
       "      <td>38.4</td>\n",
       "      <td>2020</td>\n",
       "    </tr>\n",
       "  </tbody>\n",
       "</table>\n",
       "</div>"
      ],
      "text/plain": [
       "           DATE  CPI_all_items  Rent_of_Primary_residence  \\\n",
       "276  2020-01-01        259.037                    346.449   \n",
       "277  2020-02-01        259.248                    347.141   \n",
       "278  2020-03-01        258.124                    347.474   \n",
       "279  2020-04-01        256.092                    347.314   \n",
       "280  2020-05-01        255.868                    348.344   \n",
       "281  2020-06-01        256.986                    349.214   \n",
       "282  2020-07-01        258.278                    350.090   \n",
       "283  2020-08-01        259.411                    350.673   \n",
       "284  2020-09-01        260.029                    351.302   \n",
       "285  2020-10-01        260.286                    352.532   \n",
       "286  2020-11-01        260.813                    353.426   \n",
       "287  2020-12-01        262.035                    354.001   \n",
       "\n",
       "     Monthly_Housing_Cost  CPI_Energy  US_Dollar_Purchasing_power  Year  \n",
       "276               244.361     289.137                        38.8  2020  \n",
       "277               244.407     289.781                        38.7  2020  \n",
       "278               242.655     290.216                        38.7  2020  \n",
       "279               240.364     290.639                        39.0  2020  \n",
       "280               242.650     291.709                        39.0  2020  \n",
       "281               243.475     293.219                        38.8  2020  \n",
       "282               244.046     294.599                        38.6  2020  \n",
       "283               244.341     295.437                        38.5  2020  \n",
       "284               245.745     297.080                        38.4  2020  \n",
       "285               245.584     297.893                        38.4  2020  \n",
       "286               244.610     298.253                        38.4  2020  \n",
       "287               244.235     299.369                        38.4  2020  "
      ]
     },
     "execution_count": 19,
     "metadata": {},
     "output_type": "execute_result"
    }
   ],
   "source": [
    "df2020"
   ]
  },
  {
   "cell_type": "code",
   "execution_count": 20,
   "id": "2a483d7b",
   "metadata": {},
   "outputs": [
    {
     "data": {
      "text/html": [
       "<div>\n",
       "<style scoped>\n",
       "    .dataframe tbody tr th:only-of-type {\n",
       "        vertical-align: middle;\n",
       "    }\n",
       "\n",
       "    .dataframe tbody tr th {\n",
       "        vertical-align: top;\n",
       "    }\n",
       "\n",
       "    .dataframe thead th {\n",
       "        text-align: right;\n",
       "    }\n",
       "</style>\n",
       "<table border=\"1\" class=\"dataframe\">\n",
       "  <thead>\n",
       "    <tr style=\"text-align: right;\">\n",
       "      <th></th>\n",
       "      <th>DATE</th>\n",
       "      <th>CPI_all_items</th>\n",
       "      <th>Rent_of_Primary_residence</th>\n",
       "      <th>Monthly_Housing_Cost</th>\n",
       "      <th>CPI_Energy</th>\n",
       "      <th>US_Dollar_Purchasing_power</th>\n",
       "      <th>Year</th>\n",
       "    </tr>\n",
       "  </thead>\n",
       "  <tbody>\n",
       "    <tr>\n",
       "      <th>288</th>\n",
       "      <td>2021-01-01</td>\n",
       "      <td>262.650</td>\n",
       "      <td>354.330</td>\n",
       "      <td>246.008</td>\n",
       "      <td>300.382</td>\n",
       "      <td>38.2</td>\n",
       "      <td>2021</td>\n",
       "    </tr>\n",
       "    <tr>\n",
       "      <th>289</th>\n",
       "      <td>2021-02-01</td>\n",
       "      <td>263.638</td>\n",
       "      <td>355.015</td>\n",
       "      <td>247.387</td>\n",
       "      <td>300.540</td>\n",
       "      <td>38.0</td>\n",
       "      <td>2021</td>\n",
       "    </tr>\n",
       "    <tr>\n",
       "      <th>290</th>\n",
       "      <td>2021-03-01</td>\n",
       "      <td>264.914</td>\n",
       "      <td>354.530</td>\n",
       "      <td>248.984</td>\n",
       "      <td>300.897</td>\n",
       "      <td>37.8</td>\n",
       "      <td>2021</td>\n",
       "    </tr>\n",
       "    <tr>\n",
       "      <th>291</th>\n",
       "      <td>2021-04-01</td>\n",
       "      <td>266.670</td>\n",
       "      <td>355.331</td>\n",
       "      <td>251.491</td>\n",
       "      <td>301.819</td>\n",
       "      <td>37.4</td>\n",
       "      <td>2021</td>\n",
       "    </tr>\n",
       "    <tr>\n",
       "      <th>292</th>\n",
       "      <td>2021-05-01</td>\n",
       "      <td>268.444</td>\n",
       "      <td>355.663</td>\n",
       "      <td>253.934</td>\n",
       "      <td>303.481</td>\n",
       "      <td>37.1</td>\n",
       "      <td>2021</td>\n",
       "    </tr>\n",
       "    <tr>\n",
       "      <th>293</th>\n",
       "      <td>2021-06-01</td>\n",
       "      <td>270.559</td>\n",
       "      <td>357.057</td>\n",
       "      <td>254.974</td>\n",
       "      <td>305.634</td>\n",
       "      <td>36.8</td>\n",
       "      <td>2021</td>\n",
       "    </tr>\n",
       "    <tr>\n",
       "      <th>294</th>\n",
       "      <td>2021-07-01</td>\n",
       "      <td>271.764</td>\n",
       "      <td>358.024</td>\n",
       "      <td>255.929</td>\n",
       "      <td>308.023</td>\n",
       "      <td>36.6</td>\n",
       "      <td>2021</td>\n",
       "    </tr>\n",
       "    <tr>\n",
       "      <th>295</th>\n",
       "      <td>2021-08-01</td>\n",
       "      <td>272.870</td>\n",
       "      <td>359.380</td>\n",
       "      <td>256.078</td>\n",
       "      <td>309.336</td>\n",
       "      <td>36.6</td>\n",
       "      <td>2021</td>\n",
       "    </tr>\n",
       "    <tr>\n",
       "      <th>296</th>\n",
       "      <td>2021-09-01</td>\n",
       "      <td>274.028</td>\n",
       "      <td>362.153</td>\n",
       "      <td>256.881</td>\n",
       "      <td>310.996</td>\n",
       "      <td>36.5</td>\n",
       "      <td>2021</td>\n",
       "    </tr>\n",
       "    <tr>\n",
       "      <th>297</th>\n",
       "      <td>2021-10-01</td>\n",
       "      <td>276.522</td>\n",
       "      <td>361.733</td>\n",
       "      <td>258.621</td>\n",
       "      <td>313.592</td>\n",
       "      <td>36.2</td>\n",
       "      <td>2021</td>\n",
       "    </tr>\n",
       "    <tr>\n",
       "      <th>298</th>\n",
       "      <td>2021-11-01</td>\n",
       "      <td>278.711</td>\n",
       "      <td>363.766</td>\n",
       "      <td>259.254</td>\n",
       "      <td>315.481</td>\n",
       "      <td>36.0</td>\n",
       "      <td>2021</td>\n",
       "    </tr>\n",
       "    <tr>\n",
       "      <th>299</th>\n",
       "      <td>2021-12-01</td>\n",
       "      <td>280.887</td>\n",
       "      <td>364.376</td>\n",
       "      <td>260.368</td>\n",
       "      <td>317.372</td>\n",
       "      <td>35.9</td>\n",
       "      <td>2021</td>\n",
       "    </tr>\n",
       "  </tbody>\n",
       "</table>\n",
       "</div>"
      ],
      "text/plain": [
       "           DATE  CPI_all_items  Rent_of_Primary_residence  \\\n",
       "288  2021-01-01        262.650                    354.330   \n",
       "289  2021-02-01        263.638                    355.015   \n",
       "290  2021-03-01        264.914                    354.530   \n",
       "291  2021-04-01        266.670                    355.331   \n",
       "292  2021-05-01        268.444                    355.663   \n",
       "293  2021-06-01        270.559                    357.057   \n",
       "294  2021-07-01        271.764                    358.024   \n",
       "295  2021-08-01        272.870                    359.380   \n",
       "296  2021-09-01        274.028                    362.153   \n",
       "297  2021-10-01        276.522                    361.733   \n",
       "298  2021-11-01        278.711                    363.766   \n",
       "299  2021-12-01        280.887                    364.376   \n",
       "\n",
       "     Monthly_Housing_Cost  CPI_Energy  US_Dollar_Purchasing_power  Year  \n",
       "288               246.008     300.382                        38.2  2021  \n",
       "289               247.387     300.540                        38.0  2021  \n",
       "290               248.984     300.897                        37.8  2021  \n",
       "291               251.491     301.819                        37.4  2021  \n",
       "292               253.934     303.481                        37.1  2021  \n",
       "293               254.974     305.634                        36.8  2021  \n",
       "294               255.929     308.023                        36.6  2021  \n",
       "295               256.078     309.336                        36.6  2021  \n",
       "296               256.881     310.996                        36.5  2021  \n",
       "297               258.621     313.592                        36.2  2021  \n",
       "298               259.254     315.481                        36.0  2021  \n",
       "299               260.368     317.372                        35.9  2021  "
      ]
     },
     "execution_count": 20,
     "metadata": {},
     "output_type": "execute_result"
    }
   ],
   "source": [
    "df2021"
   ]
  },
  {
   "cell_type": "markdown",
   "id": "619e5061",
   "metadata": {},
   "source": [
    "### Wald test"
   ]
  },
  {
   "cell_type": "markdown",
   "id": "b6a5fe93",
   "metadata": {},
   "source": [
    "Qa: For the rent:  \n",
    "H0: U20 == U21  \n",
    "H1: U20 != U21"
   ]
  },
  {
   "cell_type": "code",
   "execution_count": 24,
   "id": "a5014058",
   "metadata": {},
   "outputs": [],
   "source": [
    "rent20 = np.array(df2020['Rent_of_Primary_residence'])\n",
    "rent21 = np.array(df2021['Rent_of_Primary_residence'])"
   ]
  },
  {
   "cell_type": "code",
   "execution_count": 27,
   "id": "6080adf2",
   "metadata": {},
   "outputs": [],
   "source": [
    "def cal_w(theta0,data):\n",
    "    x = sum(data)/len(data)\n",
    "    var = sum([(y-x)**2 for y in data])\n",
    "    return (x-theta0)/var"
   ]
  },
  {
   "cell_type": "code",
   "execution_count": 36,
   "id": "1d9f07ac",
   "metadata": {},
   "outputs": [
    {
     "name": "stdout",
     "output_type": "stream",
     "text": [
      "w: 0.4776320580717168\n",
      "p-value: 0.31645605473695737\n"
     ]
    }
   ],
   "source": [
    "diff = rent21 - rent20\n",
    "wald_rent = cal_w(0,diff)\n",
    "print('w:', wald_rent)\n",
    "p_value = 2 * norm.sf(abs(wald_rent))\n",
    "print('p-value:',p_value)"
   ]
  },
  {
   "cell_type": "markdown",
   "id": "bec1c8e3",
   "metadata": {},
   "source": [
    "We accept H0 that 2020-2021 the Mean didn't change."
   ]
  },
  {
   "cell_type": "markdown",
   "id": "25d0801c",
   "metadata": {},
   "source": [
    "Qb: For the Energy:  \n",
    "H0: U20 == U21  \n",
    "H1: U20 != U21\n"
   ]
  },
  {
   "cell_type": "code",
   "execution_count": 37,
   "id": "efd94be7",
   "metadata": {},
   "outputs": [],
   "source": [
    "energy20 = np.array(df2020['CPI_Energy'])\n",
    "energy21 = np.array(df2021['CPI_Energy'])"
   ]
  },
  {
   "cell_type": "code",
   "execution_count": 38,
   "id": "f435af1c",
   "metadata": {},
   "outputs": [
    {
     "name": "stdout",
     "output_type": "stream",
     "text": [
      "w: 0.19301307277140745\n",
      "p-value: 0.8469487300055867\n"
     ]
    }
   ],
   "source": [
    "diff = energy21 - energy20\n",
    "wald_rent = cal_w(0,diff)\n",
    "print('w:', wald_rent)\n",
    "p_value = 2 * norm.sf(abs(wald_rent))\n",
    "print('p-value:',p_value)"
   ]
  },
  {
   "cell_type": "markdown",
   "id": "367ca4e1",
   "metadata": {},
   "source": [
    "We accept H0 that 2020-2021 the Mean didn't change."
   ]
  },
  {
   "cell_type": "code",
   "execution_count": null,
   "id": "c5bf512b",
   "metadata": {},
   "outputs": [],
   "source": []
  },
  {
   "cell_type": "markdown",
   "id": "94f4b96f",
   "metadata": {},
   "source": [
    "### T test"
   ]
  },
  {
   "cell_type": "code",
   "execution_count": 41,
   "id": "f2347a31",
   "metadata": {},
   "outputs": [],
   "source": [
    "def cal_T(theta0,data1,data2):\n",
    "    x = sum(data1)/len(data1)-sum(data2)/len(data2)\n",
    "    var1 = sum([(y-x)**2 for y in data1])\n",
    "    var2 = sum([(y-x)**2 for y in data2])\n",
    "    se = math.sqrt(var1/len(data1)+var2/len(data2))\n",
    "    return x/se\n"
   ]
  },
  {
   "cell_type": "markdown",
   "id": "31f6f34c",
   "metadata": {},
   "source": [
    "Qa: For the rent:  \n",
    "H0: U20 == U21  \n",
    "H1: U20 != U21   "
   ]
  },
  {
   "cell_type": "code",
   "execution_count": 53,
   "id": "0fb448dc",
   "metadata": {},
   "outputs": [
    {
     "name": "stdout",
     "output_type": "stream",
     "text": [
      "t: -0.016794095182120185\n",
      "p-value: 0.9867457163201817\n"
     ]
    }
   ],
   "source": [
    "t_val = cal_T(0,rent20,rent21)\n",
    "print('t:', t_val)\n",
    "p_value = 2 * t.sf(abs(t_val), len(rent20)+len(rent21)-1) \n",
    "print('p-value:',p_value)"
   ]
  },
  {
   "cell_type": "markdown",
   "id": "48a2a60f",
   "metadata": {},
   "source": [
    "We cannot reject the H0 that 2020-2021 the CPI rent changed."
   ]
  },
  {
   "cell_type": "code",
   "execution_count": 54,
   "id": "b6f04d5a",
   "metadata": {},
   "outputs": [
    {
     "name": "stdout",
     "output_type": "stream",
     "text": [
      "t: -0.03005960444312835\n",
      "p-value: 0.9762788372743263\n"
     ]
    }
   ],
   "source": [
    "t_val = cal_T(0,energy20,energy21)\n",
    "print('t:', t_val)\n",
    "p_value = 2 * t.sf(abs(t_val), len(rent20)+len(rent21)-1) \n",
    "print('p-value:',p_value)"
   ]
  },
  {
   "cell_type": "markdown",
   "id": "f7a41782",
   "metadata": {},
   "source": [
    "We cannot reject the H0 that 2020-2021 the CPI energy changed."
   ]
  },
  {
   "cell_type": "markdown",
   "id": "b308ff25",
   "metadata": {},
   "source": [
    "### Z test"
   ]
  },
  {
   "cell_type": "markdown",
   "id": "565c4823",
   "metadata": {},
   "source": [
    "use MME we got the mean of Poisson is lambda. The estimate lambda should be the mean of X."
   ]
  },
  {
   "cell_type": "code",
   "execution_count": 49,
   "id": "bde2969d",
   "metadata": {},
   "outputs": [],
   "source": [
    "def cal_Z(theta0,X,Y):\n",
    "    lambdax = sum(X)/len(X)\n",
    "    lambday = sum(Y)/len(Y)\n",
    "    x = sum(X)/len(X) - sum(Y)/len(Y)\n",
    "    varx = lambdax\n",
    "    vary = lambday\n",
    "    se = math.sqrt(varx/len(X) + vary/len(Y))\n",
    "    return x/se"
   ]
  },
  {
   "cell_type": "code",
   "execution_count": 55,
   "id": "2aa171b9",
   "metadata": {},
   "outputs": [
    {
     "name": "stdout",
     "output_type": "stream",
     "text": [
      "z: -1.121553768877482\n",
      "p-value: 0.26205221771743503\n"
     ]
    }
   ],
   "source": [
    "z_val = cal_Z(0,rent20,rent21)\n",
    "print('z:', z_val)\n",
    "p_value = 2*norm.sf(abs(z_val))\n",
    "print('p-value:',p_value)"
   ]
  },
  {
   "cell_type": "markdown",
   "id": "10a69d1c",
   "metadata": {},
   "source": [
    "We cannot reject the H0 that 2020-2021 the CPI energy changed."
   ]
  },
  {
   "cell_type": "code",
   "execution_count": 57,
   "id": "13c180d6",
   "metadata": {},
   "outputs": [
    {
     "name": "stdout",
     "output_type": "stream",
     "text": [
      "z: -1.8862737952940327\n",
      "p-value: 0.05925806861773789\n"
     ]
    }
   ],
   "source": [
    "z_val = cal_Z(0,energy20,energy21)\n",
    "print('z:', z_val)\n",
    "p_value = 2*norm.sf(abs(z_val))\n",
    "print('p-value:',p_value)"
   ]
  },
  {
   "cell_type": "markdown",
   "id": "c2a59bb5",
   "metadata": {},
   "source": [
    "We cannot reject the H0 that 2020-2021 the CPI energy changed.\n"
   ]
  }
 ],
 "metadata": {
  "kernelspec": {
   "display_name": "Python 3 (ipykernel)",
   "language": "python",
   "name": "python3"
  },
  "language_info": {
   "codemirror_mode": {
    "name": "ipython",
    "version": 3
   },
   "file_extension": ".py",
   "mimetype": "text/x-python",
   "name": "python",
   "nbconvert_exporter": "python",
   "pygments_lexer": "ipython3",
   "version": "3.9.7"
  }
 },
 "nbformat": 4,
 "nbformat_minor": 5
}
